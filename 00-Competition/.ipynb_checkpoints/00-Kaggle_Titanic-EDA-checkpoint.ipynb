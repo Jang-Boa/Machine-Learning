{
 "cells": [
  {
   "cell_type": "code",
   "execution_count": 1,
   "id": "35b12223-9228-4a9a-9556-3229baadef8c",
   "metadata": {},
   "outputs": [
    {
     "name": "stderr",
     "output_type": "stream",
     "text": [
      "/Users/boajang/miniforge3/envs/ml/lib/python3.8/site-packages/xgboost/compat.py:36: FutureWarning: pandas.Int64Index is deprecated and will be removed from pandas in a future version. Use pandas.Index with the appropriate dtype instead.\n",
      "  from pandas import MultiIndex, Int64Index\n"
     ]
    }
   ],
   "source": [
    "import os\n",
    "import numpy as np\n",
    "import pandas as pd\n",
    "import sklearn\n",
    "import matplotlib.pyplot as plt\n",
    "# import seaborn as sns\n",
    "\n",
    "from sklearn.model_selection import train_test_split\n",
    "\n",
    "# Build Pipeline\n",
    "from sklearn.base import BaseEstimator, TransformerMixin\n",
    "from sklearn.pipeline import Pipeline\n",
    "from sklearn.pipeline import FeatureUnion\n",
    "\n",
    "# Imputation and Scaling\"\n",
    "from sklearn.experimental import enable_iterative_imputer\n",
    "from sklearn.impute import SimpleImputer, KNNImputer, IterativeImputer\n",
    "from sklearn.linear_model import LinearRegression\n",
    "from sklearn.preprocessing import StandardScaler, RobustScaler, MinMaxScaler, Normalizer\n",
    "from sklearn.preprocessing import OneHotEncoder, OrdinalEncoder, LabelEncoder\n",
    "\n",
    "# Feature Selection \n",
    "from sklearn.feature_selection import chi2, f_classif, mutual_info_classif\n",
    "from sklearn.feature_selection import SelectKBest, SelectFromModel, SelectPercentile, RFE\n",
    "\n",
    "# Feature Decomposition and Extraction\n",
    "from sklearn.decomposition import PCA\n",
    "\n",
    "# Model \n",
    "from sklearn.linear_model import LogisticRegression\n",
    "from sklearn.tree import DecisionTreeClassifier\n",
    "from sklearn.svm import SVC\n",
    "from sklearn.ensemble import RandomForestClassifier\n",
    "from sklearn.linear_model import SGDClassifier\n",
    "from xgboost import XGBClassifier\n",
    "from sklearn.neighbors import KNeighborsClassifier\n",
    "from sklearn.naive_bayes import GaussianNB\n",
    "from sklearn.ensemble import GradientBoostingClassifier\n",
    "from lightgbm import LGBMClassifier\n",
    "from catboost import CatBoostClassifier\n",
    "from sklearn.neural_network import MLPClassifier\n",
    "\n",
    "# Results\n",
    "from sklearn.inspection import permutation_importance\n",
    "from sklearn.metrics import classification_report, confusion_matrix\n",
    "from sklearn.metrics import roc_auc_score, roc_curve, auc\n",
    "\n",
    "# GridSearchCV \n",
    "from sklearn.model_selection import GridSearchCV, StratifiedKFold\n",
    "from sklearn.metrics import accuracy_score, f1_score\n",
    "\n",
    "# Save model weights ---- > pickle package or joblib package\n",
    "import joblib"
   ]
  },
  {
   "cell_type": "code",
   "execution_count": 2,
   "id": "40426bb6-ea0b-4ef3-ae5b-5dc1d405dedb",
   "metadata": {},
   "outputs": [],
   "source": [
    "df = pd.read_csv(\"train.csv\")\n",
    "external_df = pd.read_csv(\"test.csv\")"
   ]
  },
  {
   "cell_type": "code",
   "execution_count": 3,
   "id": "598893d2-1ee1-4d21-b7cb-d63d4f7e24b9",
   "metadata": {},
   "outputs": [
    {
     "data": {
      "text/plain": [
       "Index(['PassengerId', 'Survived', 'Pclass', 'Name', 'Sex', 'Age', 'SibSp',\n",
       "       'Parch', 'Ticket', 'Fare', 'Cabin', 'Embarked'],\n",
       "      dtype='object')"
      ]
     },
     "execution_count": 3,
     "metadata": {},
     "output_type": "execute_result"
    }
   ],
   "source": [
    "df.columns"
   ]
  },
  {
   "cell_type": "code",
   "execution_count": 4,
   "id": "2be778ec-c17d-4963-847c-a26ea3409641",
   "metadata": {},
   "outputs": [
    {
     "name": "stdout",
     "output_type": "stream",
     "text": [
      "Categorical Data: 4\n",
      "Numerical Data: 2\n"
     ]
    }
   ],
   "source": [
    "categorical_features = ['Pclass','Sex','SibSp','Embarked']\n",
    "numerical_features = ['Age','Fare']\n",
    "print(f'Categorical Data: {len(categorical_features)}\\nNumerical Data: {len(numerical_features)}')"
   ]
  },
  {
   "cell_type": "code",
   "execution_count": 5,
   "id": "3ab817d7-68a7-4bb1-a137-cca8212605ed",
   "metadata": {},
   "outputs": [
    {
     "name": "stdout",
     "output_type": "stream",
     "text": [
      "Number of Features Uses: 6\n"
     ]
    }
   ],
   "source": [
    "\"\"\" Setting Variables \"\"\"\n",
    "random_state = 42\n",
    "\n",
    "fontsize = 15\n",
    "title_font = 16\n",
    "small_font = 12\n",
    "mean_color = '#1a50b6'\n",
    "data_dir = 'external' \n",
    "\n",
    "label_dict = {0:'No',1:'Yes'}\n",
    "\n",
    "X_features = categorical_features + numerical_features # clinical_feature + blood_serum_feature + pleural_fluid_feature\n",
    "Y_target = 'Survived'\n",
    "print(f'Number of Features Uses: {len(X_features)}')"
   ]
  },
  {
   "cell_type": "code",
   "execution_count": 6,
   "id": "5a77cf98-340a-4025-bfbe-1c1522add7b3",
   "metadata": {},
   "outputs": [
    {
     "name": "stdout",
     "output_type": "stream",
     "text": [
      "Feature: (891, 6) | Target: (891,)\n"
     ]
    }
   ],
   "source": [
    "\"\"\" Set X(Data) and Y(Target) \"\"\"\n",
    "X = df.loc[:, X_features]\n",
    "feature_col = X.columns\n",
    "Y = df.loc[:, Y_target]\n",
    "print(f\"Feature: {X.shape} | Target: {Y.shape}\")"
   ]
  },
  {
   "cell_type": "code",
   "execution_count": 7,
   "id": "0b0b8041-78d8-47ce-9655-d58a36564d08",
   "metadata": {},
   "outputs": [
    {
     "name": "stdout",
     "output_type": "stream",
     "text": [
      "Train: 712 | Test: 179\n",
      "\n",
      "No | Train: 439 | Test: 110\n",
      "Yes | Train: 273 | Test: 69\n",
      "\n",
      "External Feature: (418, 6)\n"
     ]
    }
   ],
   "source": [
    "\"\"\" TRAIN AND TEST DATASET SPLIT \"\"\"\n",
    "test_size = 0.2\n",
    "x_train, x_test, y_train, y_test = train_test_split(X, Y, \n",
    "                                                    test_size=test_size, shuffle=True, \n",
    "                                                    stratify=Y, random_state=random_state)\n",
    "\n",
    "print(f'Train: {len(x_train)} | Test: {len(x_test)}\\n')\n",
    "\n",
    "for idx, v in label_dict.items():\n",
    "    print(f'{v} | Train: {y_train.value_counts()[idx]} | Test: {y_test.value_counts()[idx]}')\n",
    "\n",
    "\"\"\" Set X(Data) and Y(Target) for external \"\"\"\n",
    "x_external = external_df.loc[:, X_features]\n",
    "print(f\"\\nExternal Feature: {x_external.shape}\")"
   ]
  },
  {
   "cell_type": "markdown",
   "id": "cc0651e9-b35c-46d0-821c-731ceb869a0a",
   "metadata": {
    "tags": []
   },
   "source": [
    "# Pipeline"
   ]
  },
  {
   "cell_type": "markdown",
   "id": "64be76a8-4037-4c5d-9637-6917035e2cf6",
   "metadata": {},
   "source": [
    "- sklearn.base의 TransformerMixin을 상속하면 fit, transform메서드만 만들어도 자동으로 fit_transform()메서드를 자동으로 생성해준다.\n",
    "- sklearn.base의 BaseEstimator를 상속하면 하이퍼파라미터 튜닝에 필요한 두 메서드 get_params()와 set_params()를 추가로 얻게 된다. (생성자에 *args나 **kargs 사용하면 안됨)"
   ]
  },
  {
   "cell_type": "code",
   "execution_count": 8,
   "id": "adcd0390-793c-40e1-a44b-702226d48efd",
   "metadata": {},
   "outputs": [],
   "source": [
    "class FeatureSpliter( BaseEstimator, TransformerMixin ):\n",
    "    \"\"\" 변수 나누어주는 Class \n",
    "    수치형(Numerical) 데이터와 범주형(Categorical) 데이터를 선택하기 위한 클래스\n",
    "    \"\"\"\n",
    "    def __init__(self, feature_names):\n",
    "        self.feature_names = feature_names\n",
    "    \n",
    "    def fit(self, X, y = None):\n",
    "        return self\n",
    "    \n",
    "    def transform(self, X, y = None):\n",
    "        return X[self.feature_names]"
   ]
  },
  {
   "cell_type": "code",
   "execution_count": 9,
   "id": "5e493bc5-78f0-4f5c-868c-337c23eead2b",
   "metadata": {
    "tags": []
   },
   "outputs": [],
   "source": [
    "\"\"\" 결측치 대체 Class \"\"\"\n",
    "class MissingTransformer( BaseEstimator, TransformerMixin ):\n",
    "    def __init__(self, imputer='single', strategy='mean'):\n",
    "        self.imputer = imputer\n",
    "        self.strategy = strategy\n",
    "\n",
    "    def fit( self, X, y = None ):\n",
    "        if (self.imputer == 'single') or (self.imputer == SimpleImputer()):\n",
    "            self.imputer = SimpleImputer(missing_values=np.nan, strategy=self.strategy)\n",
    "            if self.strategy not in ['mean', 'median', 'most_frequent', 'constant']:\n",
    "                raise ValueError(f\" >>> Can only use these strategies: ['mean', 'median', 'most_frequent', 'constant'], got strategy = {self.strategy}\")\n",
    "        elif self.imputer == 'multiple':\n",
    "            if (self.strategy == 'knn') or (self.imputer == KNNImputer()):\n",
    "                self.imputer = KNNImputer(missing_values=np.nan, n_neighbors=2)\n",
    "            elif (self.strategy == 'iterative') or (self.imputer == IterativeImputer()):\n",
    "                self.imputer = IterativeImputer(estimator=LinearRegression(), missing_values=np.nan, max_iter=10, verbose=2, \n",
    "                                                imputation_order='roman',random_state=random_state, n_nearest_features=5)\n",
    "            else: \n",
    "                raise ValueError(f\" >>> Can only use these strategies: ['knn', 'iterative'], got strategy = {self.strategy}\")\n",
    "                \n",
    "        self.imputer = self.imputer.fit(X)      \n",
    "        return self\n",
    "    \n",
    "    def transform(self, X , y = None ):\n",
    "        # cols = X.columns.tolist()\n",
    "        result = self.imputer.transform(X)\n",
    "        # result = pd.DataFrame(result , columns=cols)\n",
    "        return result"
   ]
  },
  {
   "cell_type": "code",
   "execution_count": 10,
   "id": "6fc2f464-af53-4705-8e43-d1297702d99d",
   "metadata": {},
   "outputs": [],
   "source": [
    "class CategoricalTransformer( BaseEstimator, TransformerMixin ):\n",
    "    \"\"\" 범주형 변수 처리 Class \"\"\"\n",
    "    def __init__(self, encoder ='ordinal'):\n",
    "        self.encoder = encoder\n",
    "        \n",
    "    def fit( self, X, y = None ):\n",
    "        if (self.encoder == 'ordinal') or (self.encoder == OrdinalEncoder()):\n",
    "            self.encoder = OrdinalEncoder()\n",
    "        # elif self.encoder == 'onehot':\n",
    "        #     self.encoder = OneHotEncoder()\n",
    "        # elif (self.encoder == 'label') or (self.encoder == LabelEncoder()):\n",
    "        #     self.encoder = LabelEncoder()\n",
    "        else:\n",
    "            raise ValueError(f\" >>> Can only use these encoders : ['ordinal'], got encoder = {self.encoder}\") # 'onehot', 'label'\n",
    "            \n",
    "        self.encoder = self.encoder.fit(X)\n",
    "        return self\n",
    "    \n",
    "    def transform(self, X , y = None ):\n",
    "        # cols = X.columns.to_list()\n",
    "        result = self.encoder.transform(X)\n",
    "        # result = pd.DataFrame(result, columns=cols)\n",
    "        return result"
   ]
  },
  {
   "cell_type": "code",
   "execution_count": 11,
   "id": "39107c2b-c421-46a7-9dde-d1706f6226d3",
   "metadata": {},
   "outputs": [],
   "source": [
    "class NumericalTransformer( BaseEstimator, TransformerMixin ):\n",
    "    \"\"\" 연속형 변수 처리 Class \"\"\"\n",
    "    def __init__(self, scaler='minmax'):\n",
    "        self.scaler = scaler\n",
    "            \n",
    "    def fit( self, X, y = None ):\n",
    "        if (self.scaler == 'minmax') or (self.scaler == MinMaxScaler()):\n",
    "            self.scaler = MinMaxScaler()\n",
    "        elif (self.scaler == 'standard') or (self.scaler == StandardScaler()):\n",
    "            self.scaler = StandardScaler()\n",
    "        elif (self.scaler == 'normalize') or (self.scaler == Normalizer()):\n",
    "            self.scaler = Normalizer()\n",
    "        elif (self.scaler == 'robust') or (self.scaler == RobustScaler()):\n",
    "            self.scaler = RobustScaler()\n",
    "        else:\n",
    "            raise ValueError(f\" >>> Can only use these scalers : ['minmax', 'standard', 'normalize', 'robust'], got scaler = {self.scaler}\")\n",
    "            \n",
    "        self.scaler = self.scaler.fit(X)\n",
    "        return self\n",
    "    \n",
    "    def transform(self, X , y = None):\n",
    "        # cols = X.columns.to_list()\n",
    "        result = self.scaler.transform(X)\n",
    "        # result = pd.DataFrame(result, columns=cols)\n",
    "        return result"
   ]
  },
  {
   "cell_type": "markdown",
   "id": "75fdcad9-2db9-41d2-9a6d-e58415bf0e56",
   "metadata": {},
   "source": [
    "** Feature Selection **\n",
    "- 단일 변수 선택법은 각각의 독립변수를 하나만 사용한 예측모형의 성능을 이용하여 가장 분류성능 혹은 상관관계가 높은 변수만 선택하는 방법\n",
    "    - chi2: 카이제곱 검정 통계값\n",
    "    - f_classif: 분산분석(ANOVA) F검정 통계값\n",
    "    - mutual_info_classif: 상호정보량(mutual information)\n",
    "- feature_selection 서브패키지는 성능이 좋은 변수만 사용하는 전처리기인 SelectKBest 클래스도 제공\n",
    "- ** For regression: f_regression, mutual_info_regression **\n",
    "- ** For classification: chi2, f_classif, mutual_info_classif **"
   ]
  },
  {
   "cell_type": "code",
   "execution_count": 12,
   "id": "18e3763f-9789-4fd7-b767-8419de184f58",
   "metadata": {},
   "outputs": [],
   "source": [
    "class FeatureSelector( BaseEstimator, TransformerMixin ):\n",
    "    \"\"\" Feature Selection Class \"\"\"\n",
    "    def __init__(self, selector='chi2', k=10):\n",
    "        self.selector = selector\n",
    "        self.k = k\n",
    "            \n",
    "    def fit( self, X, y=None):\n",
    "        if (self.selector == 'chi2'): # filter method\n",
    "            score_func = chi2\n",
    "            self.selector = SelectKBest(score_func=score_func, k=self.k)\n",
    "        elif (self.selector == 'anova'): # filter method\n",
    "            score_func = f_classif\n",
    "            self.selector = SelectKBest(score_func=score_func, k=self.k)\n",
    "        elif (self.selector == 'mutualinfo'): # filter method\n",
    "            score_func = mutual_info_classif\n",
    "            self.selector = SelectKBest(score_func=score_func, k=self.k)\n",
    "        elif (self.selector == 'model-based'): # model-based, embedded method\n",
    "            model_sel = RandomForestClassifier(n_estimators=100, random_state=random_state).fit(X, y)\n",
    "            self.selector = SelectFromModel(model_sel, prefit=True, max_features=self.k)\n",
    "        else:\n",
    "            raise ValueError(f\" >>> Can only use these selectors : ['chi2', 'anova', 'mutualinfo','model-based'], got selector = {self.selector}\")\n",
    "        \n",
    "        self.selector = self.selector.fit(X, y)\n",
    "        return self\n",
    "    \n",
    "    def transform(self, X , y=None):\n",
    "        result = self.selector.transform(X)\n",
    "        return result\n",
    "    \n",
    "    def get_feature_name(self): # Get Selected Feature Name\n",
    "        return self.selector.get_feature_names_out(input_features=feature_col)\n",
    "    \n",
    "    def get_support(self):\n",
    "        return self.selector.get_support()"
   ]
  },
  {
   "cell_type": "markdown",
   "id": "49f5e528-4db5-4b97-8330-86d3c3cb5840",
   "metadata": {
    "tags": []
   },
   "source": [
    "# Results Visualization"
   ]
  },
  {
   "cell_type": "code",
   "execution_count": 13,
   "id": "b4e238b0-b79f-4089-9203-00c1b04a86b2",
   "metadata": {},
   "outputs": [],
   "source": [
    "# # from sklearn.metrics import confusion_matrix, plot_confusion_matrix\n",
    "\n",
    "# def show_confusion_matrix(y_test, y_pred, save_path=None, dataset=None):\n",
    "#     conf_matrix = confusion_matrix(y_test, y_pred)\n",
    "    \n",
    "#     cmap = plt.cm.Blues\n",
    "#     plt.figure(figsize=(6,6))\n",
    "#     plt.imshow(conf_matrix, cmap=cmap, interpolation='nearest')\n",
    "\n",
    "#     thresh = conf_matrix.max() / 1.5 \n",
    "#     for i in range(conf_matrix.shape[0]):\n",
    "#         for j in range(conf_matrix.shape[1]):\n",
    "#             plt.text(x=j, y=i,s=conf_matrix[i, j], va='center', ha='center', color=\"white\" if conf_matrix[i, j] > thresh else \"black\",fontsize=fontsize) # , size='large'\n",
    "\n",
    "#     plt.xticks(np.arange(len(label_dict)), label_dict.values(), fontsize=fontsize, rotation=45)\n",
    "#     plt.yticks(np.arange(len(label_dict)), label_dict.values(), fontsize=fontsize, rotation=45)\n",
    "#     plt.xlabel('Predictions', fontsize=fontsize)\n",
    "#     plt.ylabel('Actuals', fontsize=fontsize)\n",
    "#     plt.title(f'Confusion matrix: {dataset}', fontsize=title_font)\n",
    "#     plt.colorbar(fraction=0.05, pad=0.05)\n",
    "#     if save_path:\n",
    "#         plt.savefig(f'{save_path}/Confusion_Matrix_{dataset}.png', bbox_inches='tight')\n",
    "#     plt.show()\n",
    "#     plt.close()"
   ]
  },
  {
   "cell_type": "code",
   "execution_count": 14,
   "id": "32706a66-a823-481a-b95c-214ce64de26c",
   "metadata": {},
   "outputs": [],
   "source": [
    "def show_confusion_matrix(y_test, y_pred, save_path=None, dataset=None):\n",
    "    conf_matrix = confusion_matrix(y_test, y_pred)\n",
    "    conf_matrix = conf_matrix/conf_matrix.sum(1, keepdims=True) # np.divide(conf_matrix, conf_matrix.sum(1, keepdims=True))\n",
    "\n",
    "    cmap = plt.cm.Blues\n",
    "    plt.figure(figsize=(6,6))\n",
    "    plt.imshow(conf_matrix, cmap=cmap, interpolation='nearest')\n",
    "\n",
    "    thresh = conf_matrix.max() / 1.5 \n",
    "    for i in range(conf_matrix.shape[0]):\n",
    "        for j in range(conf_matrix.shape[1]):\n",
    "            plt.text(x=j, y=i,s=round(conf_matrix[i, j], 2), va='center', ha='center', color=\"white\" if conf_matrix[i, j] > thresh else \"black\",fontsize=fontsize) # , size='large'\n",
    "\n",
    "    plt.xticks(np.arange(len(label_dict)), label_dict.values(), fontsize=fontsize, rotation=45)\n",
    "    plt.yticks(np.arange(len(label_dict)), label_dict.values(), fontsize=fontsize, rotation=45)\n",
    "    plt.xlabel('Predictions', fontsize=fontsize)\n",
    "    plt.ylabel('Actuals', fontsize=fontsize)\n",
    "    plt.title(f'Confusion matrix: {dataset}', fontsize=title_font)\n",
    "    plt.colorbar(fraction=0.05, pad=0.05)\n",
    "    if save_path:\n",
    "        plt.savefig(f'{save_path}/Confusion_Matrix_{dataset}.png', bbox_inches='tight')\n",
    "    plt.show()\n",
    "    plt.close()"
   ]
  },
  {
   "cell_type": "code",
   "execution_count": 15,
   "id": "d88ee00d-0453-4b48-ba7e-af939fbde2f1",
   "metadata": {},
   "outputs": [],
   "source": [
    "# from sklearn.inspection import permutation_importance\n",
    "\n",
    "def show_permutation_importance(model, x, y, save_path=None, dataset=None):\n",
    "    \"\"\" \n",
    "    >>> PERMUTATION IMPORTANCE <<<  \n",
    "    > fix_model : 훈련된 모델\n",
    "    > X_train : 훈련데이터 Feature\n",
    "    > y_train : 훈련데이터 Target\n",
    "    > n_repeats : 특정 Feature 를 몇번 Shuffle 할 것인지\n",
    "    > scoring : Feature 를 Shuffler 한 뒤, 예측값과 실제값을 어떤 Metric 을 사용해 비교할지\n",
    "    > random_state : 난수 고정\n",
    "    \"\"\"\n",
    "    result = permutation_importance(model, x, y, n_repeats=10,\n",
    "                                    random_state=random_state, n_jobs=2)\n",
    "    \n",
    "    sorted_result = result.importances_mean.argsort()\n",
    "    # 결과를 DataFrame 화\n",
    "    importances = pd.DataFrame(result.importances_mean[sorted_result], index=feature_col[sorted_result]).sort_values(0, ascending=False)   \n",
    "    \n",
    "    # 결과를 시각화\n",
    "    plt.figure(figsize=(9,6))\n",
    "    top_index = sorted_result[-20:]\n",
    "    plt.boxplot(result.importances[top_index].T, vert=False, labels=feature_col[top_index])\n",
    "    plt.title(f\"Permutation Importances: TOP 20 ({dataset})\", fontsize=title_font)\n",
    "    plt.yticks(fontsize=fontsize)\n",
    "    plt.xticks(fontsize=fontsize)\n",
    "    plt.tight_layout()\n",
    "    if save_path:\n",
    "        plt.savefig(f'{save_path}/Permutation_Importance_{dataset}.png', bbox_inches='tight')\n",
    "    plt.show()\n",
    "    plt.close()"
   ]
  },
  {
   "cell_type": "code",
   "execution_count": 16,
   "id": "51d76c98-c270-4859-b7ad-3a3426502a56",
   "metadata": {},
   "outputs": [],
   "source": [
    "def show_roc_curve(model, x_test, y_test, save_path=None, dataset=None):\n",
    "    \"\"\" ROC & AUC \"\"\"\n",
    "    y_true = pd.get_dummies(y_test).to_numpy()\n",
    "    y_proba = model.predict_proba(x_test)\n",
    "\n",
    "    fprs = []\n",
    "    tprs = []\n",
    "    aucs = []\n",
    "\n",
    "    fig, ax = plt.subplots(figsize=(10, 7))#, dpi=dpi)\n",
    "    mean_fpr = np.linspace(0,1,100)\n",
    "    for k, v in label_dict.items():\n",
    "        fpr, tpr, _ = roc_curve(y_true[:, k], y_proba[:, k])\n",
    "        auc_score = auc(fpr, tpr)\n",
    "        interp_tpr = np.interp(mean_fpr, fpr, tpr)\n",
    "        interp_tpr[0] = 0.0\n",
    "        tprs.append(interp_tpr)\n",
    "        aucs.append(auc_score)\n",
    "\n",
    "        line = ax.plot(fpr, tpr, label=f'{label_dict[k]} (AUC=%0.2f)'%auc_score, alpha=0.3)\n",
    "\n",
    "    ax.plot([0, 1], [0, 1], 'r--', label='Chance', alpha=0.8)\n",
    "    mean_tpr = np.mean(tprs, axis=0)\n",
    "    mean_tpr[-1] = 1.0\n",
    "    mean_auc = auc(mean_fpr, mean_tpr)\n",
    "    std_auc = np.std(aucs)\n",
    "    # print(\"Mean roc_auc_score: \", roc_auc_score(y_true, y_proba, multi_class='macro'))\n",
    "    ax.plot(mean_fpr, mean_tpr, color=mean_color, label='Mean ROC (AUC=%0.2f $\\pm$ %0.2f)'%(mean_auc, std_auc), alpha=0.8)\n",
    "\n",
    "\n",
    "    ax.legend(fontsize=small_font, ncol=1, loc='lower right')\n",
    "    plt.xlabel('False Positive Rate', fontsize=fontsize)\n",
    "    plt.ylabel('True Positive Rate', fontsize=fontsize)\n",
    "    plt.xticks(fontsize=fontsize)\n",
    "    plt.yticks(fontsize=fontsize)\n",
    "    plt.title(f'Receiver Operating Characteristic (ROC) Curve: {dataset}', fontsize=title_font)\n",
    "    plt.tight_layout()\n",
    "    if save_path:\n",
    "        plt.savefig(f'{save_path}/ROC_Curve_{dataset}.png', bbox_inches='tight')\n",
    "    plt.show()\n",
    "    plt.close()"
   ]
  },
  {
   "cell_type": "code",
   "execution_count": 17,
   "id": "42a84b2a-23f0-41de-8030-2fdf42d3ea60",
   "metadata": {},
   "outputs": [],
   "source": [
    "def set_preprocessing(cat_feature=None, cat_encoder = 'ordinal', cat_imputer = 'single', cat_strategy = 'most_frequent', num_feature=None, num_scaler = 'minmax', num_imputer = 'single', num_strategy = 'mean'):\n",
    "    \"\"\" PipeLine: \n",
    "    >>> Feature Selector: Categorical or Numerical\n",
    "    >>> Imputer: Frequent or Mean\n",
    "    >>> Scaler: Normalization\n",
    "    \"\"\"\n",
    "\n",
    "    \"\"\" CREATE PREPROCESSING STEPS FOR CATEGORICAL PIPELINE \"\"\"\n",
    "    categorical_steps = [\n",
    "        ('cat_selector', FeatureSpliter(cat_feature)),\n",
    "        ('cat_encoder', CategoricalTransformer(encoder=cat_encoder)), \n",
    "        ('cat_imputer', MissingTransformer(imputer=cat_imputer, strategy=cat_strategy)),\n",
    "    ]\n",
    "\n",
    "    \"\"\" CREATE PREPROCESSING STEPS FOR NUMERICAL PIPELINE \"\"\"\n",
    "    numerical_steps = [\n",
    "        ('num_selector', FeatureSpliter(num_feature)),\n",
    "        ('num_imputer', MissingTransformer(imputer=num_imputer, strategy=num_strategy)),\n",
    "        ('num_scaler', NumericalTransformer(scaler=num_scaler)),\n",
    "    ]\n",
    "\n",
    "    # create the 2 pipelines with the respective steps\n",
    "    categorical_pipeline = Pipeline(categorical_steps)\n",
    "    numerical_pipeline = Pipeline(numerical_steps)\n",
    "\n",
    "    pipeline_list = [\n",
    "        ('categorical_pipeline', categorical_pipeline),\n",
    "        ('numerical_pipeline', numerical_pipeline)\n",
    "    ]\n",
    "    # Combining the 2 pieplines horizontally into one full pipeline\n",
    "    preprocessing_pipeline = FeatureUnion(transformer_list=pipeline_list)\n",
    "    \n",
    "    return preprocessing_pipeline"
   ]
  },
  {
   "cell_type": "code",
   "execution_count": 18,
   "id": "e6546411-eb91-49e0-9d2f-da5637459677",
   "metadata": {},
   "outputs": [],
   "source": [
    "def set_model(network):\n",
    "    if network == 'Multinomial':\n",
    "        model = LogisticRegression(multi_class='multinomial', solver='lbfgs', random_state = random_state)\n",
    "    elif network == 'Decision':\n",
    "        model = DecisionTreeClassifier(criterion='entropy', random_state=random_state)\n",
    "    elif network == 'SVC':\n",
    "        model = SVC(random_state = random_state)\n",
    "    elif  network == 'RF':\n",
    "        model = RandomForestClassifier(n_estimators = 1000, random_state = random_state)\n",
    "    elif network == 'SGD':\n",
    "        model = SGDClassifier(random_state = random_state)\n",
    "    elif network == 'XGB': # Good\n",
    "        model = XGBClassifier(random_state = random_state)\n",
    "    elif network == 'LGB': # Best\n",
    "        model = LGBMClassifier(random_state = random_state)\n",
    "    elif network == 'KNN': \n",
    "        model = KNeighborsClassifier(n_neighbors = 7)\n",
    "    elif network == 'Naive':\n",
    "        model = GaussianNB()\n",
    "    elif network == 'Gradient': # Good \n",
    "        model = GradientBoostingClassifier(random_state = random_state)\n",
    "    elif network == 'Cat': # Good \n",
    "        model = CatBoostClassifier(random_state = random_state)\n",
    "    elif network == 'MLP':\n",
    "        model = MLPClassifier(hidden_layer_sizes=(100,), activation='relu',solver='adam',batch_size=100,random_state=random_state)\n",
    "    # elif network == 'Logistic':\n",
    "    #     model = LogisticRegression(random_state = random_state)\n",
    "    else: \n",
    "        raise ValueError(f\" >>> Can only use these estimators : ['Multinomial', 'Decision', 'SVC', 'RF', 'SGD', 'XGB', 'LGB', 'KNN', 'Naive', 'Gradient', 'Cat', 'MLP'], got estimator = {network}\")\n",
    "    \n",
    "    return model "
   ]
  },
  {
   "cell_type": "code",
   "execution_count": 19,
   "id": "162fbc54-b945-462f-93b0-72a679fb2118",
   "metadata": {},
   "outputs": [],
   "source": [
    "from sklearn.utils.validation import check_X_y, check_array, check_is_fitted\n",
    "from sklearn.utils.multiclass import unique_labels\n",
    "from sklearn.metrics import euclidean_distances\n",
    "\n",
    "class EstimatorSelector( BaseEstimator, TransformerMixin ):\n",
    "    def __init__(self, estimator='Multinomial'):\n",
    "        self.estimator = estimator\n",
    "            \n",
    "    def fit(self, X, y):\n",
    "        if (self.estimator == 'Multinomial') or (self.estimator == LogisticRegression(multi_class='multinomial', solver='lbfgs', random_state = random_state)):\n",
    "            self.estimator = LogisticRegression(multi_class='multinomial', solver='lbfgs', random_state = random_state)\n",
    "        elif (self.estimator == 'Decision') or (self.estimator == DecisionTreeClassifier(criterion='entropy', random_state=random_state)):\n",
    "            self.estimator = DecisionTreeClassifier(criterion='entropy', random_state=random_state)\n",
    "        elif (self.estimator == 'SVC') or (self.estimator == SVC(random_state = random_state)):\n",
    "            self.estimator = SVC(random_state = random_state)\n",
    "        elif (self.estimator == 'RF') or (self.estimator == RandomForestClassifier(n_estimators = 1000, random_state = random_state)):\n",
    "            self.estimator = RandomForestClassifier(n_estimators = 1000, random_state = random_state)\n",
    "        elif (self.estimator == 'SGD') or (self.estimator == SGDClassifier(random_state = random_state)):\n",
    "            self.estimator = SGDClassifier(random_state = random_state)\n",
    "        elif (self.estimator == 'XGB') or (self.estimator == XGBClassifier(random_state = random_state)): # Good\n",
    "            self.estimator = XGBClassifier(random_state = random_state)\n",
    "        elif (self.estimator == 'LGB') or (self.estimator == LGBMClassifier(random_state = random_state)): # Best\n",
    "            self.estimator = LGBMClassifier(random_state = random_state)\n",
    "        elif (self.estimator == 'KNN') or (self.estimator == KNeighborsClassifier(n_neighbors = 7)): \n",
    "            self.estimator = KNeighborsClassifier(n_neighbors = 7)\n",
    "        elif (self.estimator == 'Naive') or (self.estimator == GaussianNB()):\n",
    "            self.estimator = GaussianNB()\n",
    "        elif (self.estimator == 'Gradient') or (self.estimator == GradientBoostingClassifier(random_state = random_state)): # Good \n",
    "            self.estimator = GradientBoostingClassifier(random_state = random_state)\n",
    "        elif (self.estimator == 'Cat') or (self.estimator == CatBoostClassifier(random_state = random_state)): # Good \n",
    "            self.estimator = CatBoostClassifier(random_state = random_state)\n",
    "        elif (self.estimator == 'MLP') or (self.estimator == MLPClassifier(hidden_layer_sizes=(100,), activation='relu',solver='adam',batch_size=100,random_state=random_state)):\n",
    "            self.estimator = MLPClassifier(hidden_layer_sizes=(100,), activation='relu',solver='adam',batch_size=100,random_state=random_state)\n",
    "        # elif (self.estimator == 'Logistic') or (self.estimator == LogisticRegression(random_state = random_state)):\n",
    "        #     self.estimator = LogisticRegression(random_state = random_state)\n",
    "        else: \n",
    "            raise ValueError(f\" >>> Can only use these estimators : ['Multinomial', 'Decision', 'SVC', 'RF', 'SGD', 'XGB', 'LGB', 'KNN', 'Naive', 'Gradient', 'Cat', 'MLP'], got estimator = {self.estimator}\")\n",
    "            \n",
    "        self.estimator.fit(X,y)\n",
    "        return self\n",
    "\n",
    "    def predict(self, X):\n",
    "        y_pred = self.estimator.predict(X)\n",
    "        return y_pred\n",
    "    \n",
    "    def score(self, X, y):\n",
    "        score = self.estimator.score(X, y)\n",
    "        return score\n",
    "\n",
    "    def predict_proba(self, X):\n",
    "        proba = self.estimator.predict_proba(X)\n",
    "        return proba"
   ]
  },
  {
   "cell_type": "markdown",
   "id": "4122125e-e21c-47d4-b782-1c62e334635b",
   "metadata": {},
   "source": [
    "# Model "
   ]
  },
  {
   "cell_type": "code",
   "execution_count": 20,
   "id": "f9564959-867f-41df-a899-d6b2f0677328",
   "metadata": {},
   "outputs": [],
   "source": [
    "\"\"\" SELECT VARIABLES AND CREATE PIPELINE \"\"\"\n",
    "cat_encoder = 'ordinal'\n",
    "cat_imputer = 'single' # 'single' 'multiple'\n",
    "cat_strategy = 'most_frequent' # 'most_frequent' 'knn'\n",
    "num_scaler = 'robust' # 'minmax' 'standard' 'normalize' 'robust'\n",
    "num_imputer = 'single' # 'single' 'multiple'\n",
    "num_strategy = 'mean' # 'mean' 'iterative'\n",
    "preprocessing_pipe = set_preprocessing(categorical_features, cat_encoder, cat_imputer, cat_strategy, numerical_features, num_scaler, num_imputer, num_strategy)\n",
    "\n",
    "network = 'LGB'\n",
    "# model_pipe = set_model(network)\n",
    "model_pipe  = EstimatorSelector(estimator=network)"
   ]
  },
  {
   "cell_type": "code",
   "execution_count": 21,
   "id": "1655aac7-5784-4f31-b506-a5effae1694e",
   "metadata": {
    "tags": []
   },
   "outputs": [
    {
     "data": {
      "text/plain": [
       "Pipeline(steps=[('Processing',\n",
       "                 FeatureUnion(transformer_list=[('categorical_pipeline',\n",
       "                                                 Pipeline(steps=[('cat_selector',\n",
       "                                                                  FeatureSpliter(feature_names=['Pclass',\n",
       "                                                                                                'Sex',\n",
       "                                                                                                'SibSp',\n",
       "                                                                                                'Embarked'])),\n",
       "                                                                 ('cat_encoder',\n",
       "                                                                  CategoricalTransformer()),\n",
       "                                                                 ('cat_imputer',\n",
       "                                                                  MissingTransformer(strategy='most_frequent'))])),\n",
       "                                                ('numerical_pipeline',\n",
       "                                                 Pipeline(steps=[('num_selector',\n",
       "                                                                  FeatureSpliter(feature_names=['Age',\n",
       "                                                                                                'Fare'])),\n",
       "                                                                 ('num_imputer',\n",
       "                                                                  MissingTransformer()),\n",
       "                                                                 ('num_scaler',\n",
       "                                                                  NumericalTransformer(scaler='robust'))]))])),\n",
       "                ('Model', EstimatorSelector(estimator='LGB'))])"
      ]
     },
     "execution_count": 21,
     "metadata": {},
     "output_type": "execute_result"
    }
   ],
   "source": [
    "# Set model pipeline\n",
    "pipeline = Pipeline([('Processing', preprocessing_pipe),\n",
    "                  ('Model', model_pipe),\n",
    "                 ])\n",
    "pipeline"
   ]
  },
  {
   "cell_type": "code",
   "execution_count": 22,
   "id": "7d05c4ff-797e-4294-9123-d91e62c6e2dd",
   "metadata": {
    "scrolled": true,
    "tags": []
   },
   "outputs": [],
   "source": [
    "\"\"\" Model Train \"\"\"\n",
    "pipeline.fit(x_train, y_train)\n",
    "y_pred = pipeline.predict(x_test)"
   ]
  },
  {
   "cell_type": "code",
   "execution_count": 23,
   "id": "5340c08c-b7e1-4e0e-b700-a0a4166353d6",
   "metadata": {},
   "outputs": [],
   "source": [
    "y_pred_external = pipeline.predict(x_external)"
   ]
  },
  {
   "cell_type": "code",
   "execution_count": 30,
   "id": "b14b1b13-c558-445e-b292-a479eac936c8",
   "metadata": {},
   "outputs": [
    {
     "data": {
      "text/plain": [
       "Index(['PassengerId', 'Pclass', 'Name', 'Sex', 'Age', 'SibSp', 'Parch',\n",
       "       'Ticket', 'Fare', 'Cabin', 'Embarked'],\n",
       "      dtype='object')"
      ]
     },
     "execution_count": 30,
     "metadata": {},
     "output_type": "execute_result"
    }
   ],
   "source": [
    "external_df.columns"
   ]
  },
  {
   "cell_type": "code",
   "execution_count": 33,
   "id": "26895252-7c2c-475f-bcf7-1f9bfb443cfe",
   "metadata": {},
   "outputs": [
    {
     "data": {
      "text/plain": [
       "((418, 11), 418)"
      ]
     },
     "execution_count": 33,
     "metadata": {},
     "output_type": "execute_result"
    }
   ],
   "source": [
    "external_df.shape, len(y_pred_external)"
   ]
  },
  {
   "cell_type": "code",
   "execution_count": 41,
   "id": "9ef78be2-e037-4914-b2c4-5e249ad8f992",
   "metadata": {},
   "outputs": [],
   "source": [
    "save_df = pd.DataFrame([external_df['PassengerId'], y_pred_external]).T\n",
    "save_df.rename(columns={\"Unnamed 0\":\"Survived\"}, inplace=True)\n",
    "save_df.to_csv(\"Submit.csv\",index=False)"
   ]
  },
  {
   "cell_type": "code",
   "execution_count": 36,
   "id": "8a07335e-41ad-4cd4-b23f-14309c33a064",
   "metadata": {},
   "outputs": [
    {
     "data": {
      "text/plain": [
       "array([0, 0, 0, 1, 0, 0, 1, 0, 1, 0, 0, 0, 1, 0, 1, 1, 0, 0, 0, 0, 0, 0,\n",
       "       1, 1, 1, 0, 1, 0, 1, 0, 0, 0, 1, 0, 1, 0, 0, 0, 0, 1, 0, 1, 0, 1,\n",
       "       1, 0, 0, 0, 1, 1, 0, 0, 1, 1, 0, 0, 0, 0, 0, 1, 0, 0, 0, 1, 0, 1,\n",
       "       1, 0, 0, 1, 1, 0, 0, 0, 1, 0, 0, 1, 0, 1, 1, 0, 0, 0, 0, 0, 1, 1,\n",
       "       1, 1, 0, 0, 1, 0, 1, 0, 1, 0, 1, 0, 1, 0, 0, 1, 1, 0, 0, 0, 0, 0,\n",
       "       0, 1, 1, 1, 1, 0, 0, 1, 1, 1, 1, 0, 1, 0, 0, 0, 0, 1, 0, 0, 0, 0,\n",
       "       0, 0, 0, 0, 0, 0, 0, 0, 0, 1, 0, 0, 1, 0, 0, 0, 1, 0, 1, 0, 0, 0,\n",
       "       0, 0, 1, 1, 1, 1, 1, 1, 1, 0, 0, 0, 0, 0, 1, 0, 0, 0, 0, 0, 0, 1,\n",
       "       1, 0, 1, 1, 0, 1, 1, 0, 1, 0, 1, 0, 0, 0, 0, 0, 0, 0, 0, 0, 1, 0,\n",
       "       0, 0, 1, 1, 0, 1, 0, 0, 0, 0, 1, 0, 0, 0, 0, 1, 0, 0, 1, 0, 1, 0,\n",
       "       1, 0, 1, 0, 1, 1, 0, 1, 0, 0, 0, 1, 0, 0, 1, 0, 0, 0, 1, 1, 1, 1,\n",
       "       1, 0, 0, 0, 1, 0, 1, 0, 1, 0, 0, 0, 0, 0, 0, 0, 1, 0, 0, 0, 1, 1,\n",
       "       0, 0, 0, 0, 0, 0, 1, 0, 1, 1, 0, 1, 0, 0, 0, 0, 0, 1, 1, 0, 1, 0,\n",
       "       0, 0, 0, 0, 0, 0, 0, 0, 0, 0, 1, 0, 0, 0, 0, 0, 0, 0, 1, 1, 0, 1,\n",
       "       0, 0, 0, 0, 0, 0, 1, 1, 0, 0, 0, 0, 1, 0, 0, 1, 1, 0, 1, 0, 0, 0,\n",
       "       1, 0, 0, 1, 0, 0, 1, 0, 0, 0, 0, 0, 0, 1, 0, 1, 0, 0, 0, 1, 1, 0,\n",
       "       0, 0, 1, 0, 1, 0, 0, 1, 0, 1, 1, 1, 1, 0, 0, 0, 1, 0, 0, 1, 0, 0,\n",
       "       1, 1, 0, 0, 0, 0, 0, 0, 0, 0, 0, 1, 0, 0, 0, 0, 0, 1, 0, 0, 0, 1,\n",
       "       0, 1, 0, 0, 1, 0, 1, 0, 0, 1, 0, 0, 1, 1, 1, 1, 0, 0, 1, 0, 0, 1])"
      ]
     },
     "execution_count": 36,
     "metadata": {},
     "output_type": "execute_result"
    }
   ],
   "source": [
    "y_pred_external"
   ]
  },
  {
   "cell_type": "code",
   "execution_count": 24,
   "id": "a3b29d37-4a63-4408-87f5-1d1e5f3cc21d",
   "metadata": {},
   "outputs": [
    {
     "name": "stdout",
     "output_type": "stream",
     "text": [
      ">>> Test Accuracy / Weighted F1-Score: 0.7765 / 0.7752\n"
     ]
    }
   ],
   "source": [
    "print(\">>> Test Accuracy / Weighted F1-Score: {:.4f} / {:.4f}\".format(accuracy_score(y_test, y_pred), f1_score(y_test, y_pred, average='weighted')))\n"
   ]
  },
  {
   "cell_type": "code",
   "execution_count": 25,
   "id": "9202730e-e06b-4965-ab75-87ea1534f002",
   "metadata": {
    "scrolled": true,
    "tags": []
   },
   "outputs": [
    {
     "name": "stdout",
     "output_type": "stream",
     "text": [
      ">>> Current Model: LGB <<<\n",
      ">>> Current Scaler: robust <<<\n",
      ">>> Current Imputer: single <<<\n",
      "Number of Train Dataset: 712\n",
      "Number of Test Dataset: 179\n",
      ">>> Train Accuracy / Weighted F1-Score: 0.9508 / 0.9506\n",
      ">>> Test Accuracy / Weighted F1-Score: 0.7765 / 0.7752\n",
      "              precision    recall  f1-score   support\n",
      "\n",
      "          No       0.81      0.84      0.82       110\n",
      "         Yes       0.72      0.68      0.70        69\n",
      "\n",
      "    accuracy                           0.78       179\n",
      "   macro avg       0.77      0.76      0.76       179\n",
      "weighted avg       0.77      0.78      0.78       179\n",
      "\n"
     ]
    }
   ],
   "source": [
    "print(f'>>> Current Model: {network} <<<')\n",
    "print(f'>>> Current Scaler: {num_scaler} <<<')\n",
    "print(f'>>> Current Imputer: {num_imputer} <<<')\n",
    "print(f'Number of Train Dataset: {len(x_train)}')\n",
    "print(f'Number of Test Dataset: {len(x_test)}')\n",
    "print(\">>> Train Accuracy / Weighted F1-Score: {:.4f} / {:.4f}\".format(pipeline.score(x_train, y_train), f1_score(y_train, pipeline.predict(x_train), average='weighted')))\n",
    "print(\">>> Test Accuracy / Weighted F1-Score: {:.4f} / {:.4f}\".format(pipeline.score(x_test, y_test), f1_score(y_test, y_pred, average='weighted')))\n",
    "print(classification_report(y_test, y_pred, target_names=list(label_dict.values())))"
   ]
  },
  {
   "cell_type": "code",
   "execution_count": 27,
   "id": "6bb12f5f-dabd-4fc2-b2a6-775c744d5b44",
   "metadata": {
    "scrolled": true,
    "tags": []
   },
   "outputs": [
    {
     "data": {
      "image/png": "[encoded data removed]",
      "text/plain": [
       "<Figure size 600x600 with 2 Axes>"
      ]
     },
     "metadata": {},
     "output_type": "display_data"
    },
    {
     "ename": "NameError",
     "evalue": "name 'y_external' is not defined",
     "output_type": "error",
     "traceback": [
      "\u001b[0;31m---------------------------------------------------------------------------\u001b[0m",
      "\u001b[0;31mNameError\u001b[0m                                 Traceback (most recent call last)",
      "Cell \u001b[0;32mIn[27], line 2\u001b[0m\n\u001b[1;32m      1\u001b[0m show_confusion_matrix(y_test, y_pred, dataset\u001b[38;5;241m=\u001b[39m\u001b[38;5;124m'\u001b[39m\u001b[38;5;124mTest\u001b[39m\u001b[38;5;124m'\u001b[39m)\n\u001b[0;32m----> 2\u001b[0m show_confusion_matrix(\u001b[43my_external\u001b[49m, y_pred_external, dataset\u001b[38;5;241m=\u001b[39m\u001b[38;5;124m'\u001b[39m\u001b[38;5;124mExternal\u001b[39m\u001b[38;5;124m'\u001b[39m)\n",
      "\u001b[0;31mNameError\u001b[0m: name 'y_external' is not defined"
     ]
    }
   ],
   "source": [
    "show_confusion_matrix(y_test, y_pred, dataset='Test')\n",
    "# show_confusion_matrix(y_external, y_pred_external, dataset='External')"
   ]
  },
  {
   "cell_type": "code",
   "execution_count": null,
   "id": "3cd06161-fd7c-40fe-b0dc-27dc8c006e17",
   "metadata": {},
   "outputs": [],
   "source": [
    "show_roc_curve(pipeline, x_test, y_test, dataset='Test')\n",
    "# show_roc_curve(pipeline, x_external, y_external, dataset='External')"
   ]
  },
  {
   "cell_type": "code",
   "execution_count": 26,
   "id": "48cf1d43-a65e-48e7-a980-525a611008ab",
   "metadata": {
    "scrolled": true,
    "tags": []
   },
   "outputs": [
    {
     "data": {
      "image/png": "[encoded data removed]",
      "text/plain": [
       "<Figure size 900x600 with 1 Axes>"
      ]
     },
     "metadata": {},
     "output_type": "display_data"
    },
    {
     "ename": "NameError",
     "evalue": "name 'y_external' is not defined",
     "output_type": "error",
     "traceback": [
      "\u001b[0;31m---------------------------------------------------------------------------\u001b[0m",
      "\u001b[0;31mNameError\u001b[0m                                 Traceback (most recent call last)",
      "Cell \u001b[0;32mIn[26], line 2\u001b[0m\n\u001b[1;32m      1\u001b[0m show_permutation_importance(pipeline, x_test, y_test, dataset\u001b[38;5;241m=\u001b[39m\u001b[38;5;124m'\u001b[39m\u001b[38;5;124mTest\u001b[39m\u001b[38;5;124m'\u001b[39m)\n\u001b[0;32m----> 2\u001b[0m show_permutation_importance(pipeline, x_external, \u001b[43my_external\u001b[49m, dataset\u001b[38;5;241m=\u001b[39m\u001b[38;5;124m'\u001b[39m\u001b[38;5;124mExternal\u001b[39m\u001b[38;5;124m'\u001b[39m)\n",
      "\u001b[0;31mNameError\u001b[0m: name 'y_external' is not defined"
     ]
    }
   ],
   "source": [
    "show_permutation_importance(pipeline, x_test, y_test, dataset='Test')\n",
    "# show_permutation_importance(pipeline, x_external, y_external, dataset='External')"
   ]
  },
  {
   "cell_type": "code",
   "execution_count": null,
   "id": "95e42f4b-04d2-4ed1-9c57-0a0a5ab4ca40",
   "metadata": {},
   "outputs": [],
   "source": []
  }
 ],
 "metadata": {
  "kernelspec": {
   "display_name": "Machine Learning",
   "language": "python",
   "name": "ml"
  },
  "language_info": {
   "codemirror_mode": {
    "name": "ipython",
    "version": 3
   },
   "file_extension": ".py",
   "mimetype": "text/x-python",
   "name": "python",
   "nbconvert_exporter": "python",
   "pygments_lexer": "ipython3",
   "version": "3.8.15"
  }
 },
 "nbformat": 4,
 "nbformat_minor": 5
}
