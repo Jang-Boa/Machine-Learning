{
 "cells": [
  {
   "cell_type": "code",
   "execution_count": null,
   "id": "80e39279-67f1-4122-9efc-6ee72941bc93",
   "metadata": {},
   "outputs": [],
   "source": [
    "## 필요한 Library Import\n",
    "import os\n",
    "import pandas as pd # R의 dataframe 데이터 타입을 참고하여 만든 것이 Pandas Library\n",
    "import numpy as np\n",
    "\n",
    "import matplotlib.pyplot as plt\n",
    "# import seaborn as sns\n",
    "\n",
    "# %matplotlib inline"
   ]
  },
  {
   "cell_type": "code",
   "execution_count": null,
   "id": "8ad2d30c-cde9-4562-b4bf-5473287f7074",
   "metadata": {},
   "outputs": [],
   "source": [
    "path = 'PF_data.csv'\n",
    "df = pd.read_csv(path) # csv 파일을 Dataframe으로 불러와 처리\n",
    "df"
   ]
  },
  {
   "cell_type": "code",
   "execution_count": null,
   "id": "5861b845-7ca2-442f-9b2f-fee63227d69f",
   "metadata": {
    "scrolled": true,
    "tags": []
   },
   "outputs": [],
   "source": [
    "list(df.columns) # 몇몇 columns들이 있는지 확인"
   ]
  },
  {
   "cell_type": "markdown",
   "id": "ad69f087-f510-437d-acb1-88328ac27c51",
   "metadata": {},
   "source": [
    "# EDA\n",
    "- 진단 방법 1에 대해서만 진행 "
   ]
  },
  {
   "cell_type": "code",
   "execution_count": null,
   "id": "5e802257-92b6-4a8e-80cb-41d9ae13954c",
   "metadata": {},
   "outputs": [],
   "source": [
    "info_feature = ['SubjectNo','Pf_date_time','Pf_date','Date_birth']\n",
    "# Independent Variable\n",
    "clinical_feature = ['Gender','Age','Height','Weight','BMI','BT','hx_cancer']\n",
    "blood_serum_feature = ['b_WBC','b_Neutro','b_Lympho','b_mono','b_Eosinophil', \n",
    "                       'b_Basophil','b_RBC','b_Hb', 'b_plt', 'b_ESR', \n",
    "                       'b_CRP', 'b_Protein', 'b_glucose','b_glucose_poct', 'b_ALP', \n",
    "                       'b_TB','b_BUN','b_Calcium','b_Chloride','b_Cholesterol',\n",
    "                       'b_total_CO2','b_Creatinine','b_GGT','b_AST','b_ALT', \n",
    "                       'b_Phosphorus', 'b_K','b_Na','b_Uric_Acid','b_albumin',\n",
    "                       'b_LDH','b_CEA', ]\n",
    "pleural_fluid_feature = ['SONO','Pf_Color','pf_pH', 'pf_RBC', 'pf_WBC', # SONO 초음파 사용 여부 \n",
    "                         'pf_PMN_p', 'pf_Lympho_p', 'pf_other_p',\n",
    "                         'Pf_Lymph_PMN', 'pf_protein', 'pf_glucose',\n",
    "                         'pf_chloride', 'pf_LD', 'pf_amylase', 'pf_albumin',\n",
    "                         'pf_ADA', 'pf_CEA']\n",
    "\n",
    "# Dependent Variable\n",
    "target_features = ['final_dx_1', 'final_dx_2'] \n",
    "\n",
    "print(f'Clinical: {len(clinical_feature)}\\nBlood/Serum: {len(blood_serum_feature)}\\nPleural Fluid: {len(pleural_fluid_feature)}')"
   ]
  },
  {
   "cell_type": "code",
   "execution_count": null,
   "id": "b599b801-ee63-483d-8d4d-1a98845dc217",
   "metadata": {},
   "outputs": [],
   "source": [
    "label_dict = {0:'Excluded', 1:'Transudative',\n",
    "         2:'Malignant', 3:'Parapneumonic',\n",
    "         4:'Tuberculous', 5:'Others'}"
   ]
  },
  {
   "cell_type": "markdown",
   "id": "336cdd30-0ac1-4b3d-be40-d6cc4e2c1931",
   "metadata": {
    "tags": []
   },
   "source": [
    "### 데이터 타입 체크 \n",
    "- 범주형 변수(Categorical Data): Object or String\n",
    "- 수치형 변수(Numerical Data): Int64 or Float64"
   ]
  },
  {
   "cell_type": "code",
   "execution_count": null,
   "id": "27feb987-c890-4ca0-bf87-f97fe7effa71",
   "metadata": {},
   "outputs": [],
   "source": [
    "# df = df[clinical_feature+blood_serum_feature+pleural_fluid_feature+target_features]\n",
    "print(df.shape)"
   ]
  },
  {
   "cell_type": "code",
   "execution_count": null,
   "id": "6787f555-6007-414f-abed-520c987d90a8",
   "metadata": {
    "scrolled": true,
    "tags": []
   },
   "outputs": [],
   "source": [
    "df.info() # 변수들의 자료형 파악"
   ]
  },
  {
   "cell_type": "code",
   "execution_count": null,
   "id": "e2ed4c77-2a11-48d3-927a-b301a46d63ab",
   "metadata": {},
   "outputs": [],
   "source": [
    "categorical = ['Gender', 'hx_cancer', 'SONO', 'Pf_Color', 'final_dx_1', 'final_dx_2']\n",
    "numerical = ['Age','Height','Weight','BMI','BT',\n",
    "            'pf_pH', 'pf_RBC', 'pf_WBC', 'pf_PMN_p', 'pf_Lympho_p', 'pf_other_p','Pf_Lymph_PMN', \n",
    "             'pf_protein', 'pf_glucose','pf_chloride', 'pf_LD', 'pf_amylase', 'pf_albumin','pf_ADA', 'pf_CEA'] + blood_serum_feature\n",
    "\n",
    "print(f'Categorical Data: {len(categorical)}\\nNumerical Data: {len(numerical)}')"
   ]
  },
  {
   "cell_type": "code",
   "execution_count": null,
   "id": "311911fd-7393-46fb-8a2e-b0891d949939",
   "metadata": {},
   "outputs": [],
   "source": [
    "df.describe() # 각종 데이터의 통계량을 요약하여 출력해주는 Method"
   ]
  },
  {
   "cell_type": "markdown",
   "id": "5a2ed451-9efe-4a62-bc11-88e87b774766",
   "metadata": {
    "tags": []
   },
   "source": [
    "### Missing Value"
   ]
  },
  {
   "cell_type": "code",
   "execution_count": null,
   "id": "f8ebd616-37ec-46f8-93f3-91a2fe359838",
   "metadata": {
    "scrolled": true,
    "tags": []
   },
   "outputs": [],
   "source": [
    "# 결측치 개수 파악\n",
    "df.isnull().sum()"
   ]
  },
  {
   "cell_type": "markdown",
   "id": "3b65c955-730e-45fb-bcae-8c2d12a76666",
   "metadata": {
    "tags": []
   },
   "source": [
    "### Dependent Variable 종속변수 Distribution "
   ]
  },
  {
   "cell_type": "code",
   "execution_count": null,
   "id": "1f4356a8-b19b-4018-a25a-07365982ac7c",
   "metadata": {},
   "outputs": [],
   "source": [
    "# Graph를 그리기 위한 Colormap 설정\n",
    "color_map = ['#064273','#76b6c4','#107dac','#005b96','#6497b1','#b3cde0','#8b9dc3','#428bca','#7289da','#5bc0de','#bae1ff']"
   ]
  },
  {
   "cell_type": "code",
   "execution_count": null,
   "id": "31badca1-077e-48b2-a61d-015f583228db",
   "metadata": {},
   "outputs": [],
   "source": [
    "# Target 값들의 갯수를 파악하기 위해 필요한 정보만 Dataframe으로 변환 \n",
    "df_graph = pd.DataFrame(df['final_dx_1'].value_counts()) \n",
    "df_graph.sort_index(inplace=True)\n",
    "df_graph"
   ]
  },
  {
   "cell_type": "code",
   "execution_count": null,
   "id": "3f572363-746f-4511-8e0d-945038e20d4a",
   "metadata": {
    "tags": []
   },
   "outputs": [],
   "source": [
    "# 진단 1에 대한 target 분포 그래프 \n",
    "fig, ax = plt.subplots()\n",
    "for i in df_graph.index:\n",
    "    value = df_graph.loc[i, 'final_dx_1']\n",
    "    rect = ax.bar(i, value, color=color_map[i])\n",
    "    height = rect[0].get_height()\n",
    "    ax.text(i, height, round(value), ha='center', va='bottom')\n",
    "    # ax.set_xticks([i])\n",
    "plt.title('Diagnostic Method 1')\n",
    "plt.xticks(np.arange(len(df_graph)), list(label_dict.values()), rotation=45)\n",
    "plt.show()"
   ]
  },
  {
   "cell_type": "markdown",
   "id": "b06688eb-71b6-4a10-a158-b9ad883383b6",
   "metadata": {
    "jp-MarkdownHeadingCollapsed": true,
    "tags": []
   },
   "source": [
    "### Numerical Variable Distribution"
   ]
  },
  {
   "cell_type": "code",
   "execution_count": null,
   "id": "6f6aac09-06ce-42f3-9fe7-8f0db2d2d4ad",
   "metadata": {
    "scrolled": true,
    "tags": []
   },
   "outputs": [],
   "source": [
    "# # 각 Feature별 Distribution Graph\n",
    "# for col in numerical:\n",
    "#     sns.histplot(df.loc[df[col].notnull(), col], kde=True, stat='density', linewidth=0.1)\n",
    "#     plt.show()"
   ]
  },
  {
   "cell_type": "markdown",
   "id": "5948d4dd-0d54-43ac-b395-2181fab8cf0c",
   "metadata": {
    "jp-MarkdownHeadingCollapsed": true,
    "tags": []
   },
   "source": [
    "### Correlation Map"
   ]
  },
  {
   "cell_type": "code",
   "execution_count": null,
   "id": "5dd0cd94-868f-4a46-ba08-b3b8b7975b4c",
   "metadata": {},
   "outputs": [],
   "source": [
    "corrmat = df.corr() # Correlation \n",
    "\n",
    "# plt.figure(figsize=(16,12))\n",
    "fig, ax = plt.subplots(figsize=(8,8))\n",
    "heatmap = ax.pcolor(corrmat, cmap=plt.cm.Blues)\n",
    "\n",
    "# put the major ticks at the middle of each cell\n",
    "ax.set_xticks(np.arange(0.5, len(corrmat.index), 1) + 0.5, corrmat.index, fontsize=8, rotation=90)\n",
    "ax.set_yticks(np.arange(0.5, len(corrmat.columns), 1), corrmat.columns, fontsize=8)\n",
    "\n",
    "# want a more natural, table-like display\n",
    "ax.invert_yaxis()\n",
    "ax.xaxis.tick_top()\n",
    "ax.grid(False)\n",
    "\n",
    "# turn off the frame\n",
    "ax.set_frame_on(False)\n",
    "# cax = divider.append_axes('right', size='5%', pad=0.05)\n",
    "# fig.colorbar(heatmap)\n",
    "plt.show()"
   ]
  },
  {
   "cell_type": "markdown",
   "id": "016e1bd4-4e56-4485-bccc-fe144e704511",
   "metadata": {
    "tags": []
   },
   "source": [
    "# Preprocessing\n",
    "- 1차적 전처리를 통한 데이터 보유"
   ]
  },
  {
   "cell_type": "code",
   "execution_count": null,
   "id": "12d21e19-321a-4940-92ff-a4fe55c9d357",
   "metadata": {
    "scrolled": true,
    "tags": []
   },
   "outputs": [],
   "source": [
    "blood_serum_feature = []\n",
    "pleural_fluid_feature = []\n",
    "date_time_feature = []\n",
    "date_feature = []\n",
    "for c in df.columns:\n",
    "    if 'date_time' in c:\n",
    "        date_time_feature.append(c)\n",
    "    if ('_date' in c) & ('time' not in c):\n",
    "        date_feature.append(c)\n",
    "    if ('b_' in c) & ('_date' not in c):\n",
    "        blood_serum_feature.append(c)\n",
    "    if ('pf_' in c) | ('Pf_' in c) & ('_date' not in c):\n",
    "        pleural_fluid_feature.append(c)\n",
    "        \n",
    "print(len(blood_serum_feature), len(pleural_fluid_feature), len(date_time_feature), len(date_feature))"
   ]
  },
  {
   "cell_type": "code",
   "execution_count": null,
   "id": "1af6cba4-73c0-4cfa-a7fe-c2df12cb9d1d",
   "metadata": {},
   "outputs": [],
   "source": [
    "info_feature = ['SubjectNo','Date_birth']\n",
    "# Independent Variable\n",
    "clinical_feature = ['Gender','Age','Height','Weight','BMI','BT','hx_cancer', 'SONO']\n",
    "\n",
    "# Dependent Variable\n",
    "target_features = ['final_dx_1', 'final_dx_2'] \n",
    "\n",
    "other_feature = ['transudate','MPE', 'TPE_1', 'TPE_1_why', 'TPE_2', 'TPE_2_why', 'PPE', 'dx_other', 'dx_other_detail', 'excluded', 'ex_why', 'mannual_review']\n",
    "\n",
    "\n",
    "print(len(info_feature),len(clinical_feature),len(blood_serum_feature),len(pleural_fluid_feature),len(target_features),len(date_time_feature),len(date_feature),len(other_feature))\n",
    "print(len(info_feature)+len(clinical_feature)+len(blood_serum_feature)+len(pleural_fluid_feature)+len(target_features)+len(date_time_feature)+len(date_feature)+len(other_feature))"
   ]
  },
  {
   "cell_type": "markdown",
   "id": "c7448c1c-5599-4208-98c8-8654f4a0ce4e",
   "metadata": {},
   "source": [
    "### Data Type Transfer\n",
    "- 데이터 타입 변환\n",
    "- 날짜 데이터는 일자시간타입으로 변환 \n",
    "- 범주형 변수는 Object 타입으로 변환"
   ]
  },
  {
   "cell_type": "code",
   "execution_count": null,
   "id": "137a7c2c-28c0-4a3d-b601-f09fbf3aca3f",
   "metadata": {},
   "outputs": [],
   "source": [
    "# Date 정보를 datetime64 로 변환\n",
    "for date_c in date_feature:\n",
    "    df[date_c] = pd.to_datetime(df[date_c])"
   ]
  },
  {
   "cell_type": "code",
   "execution_count": null,
   "id": "3e81a4de-1e82-4e25-b126-1e9bbd1b5765",
   "metadata": {},
   "outputs": [],
   "source": [
    "# Date Time정보를 datetime64 로 변환\n",
    "for dt_c in date_time_feature:\n",
    "    df[dt_c] = pd.to_datetime(df[dt_c])"
   ]
  },
  {
   "cell_type": "code",
   "execution_count": null,
   "id": "7e0bfeaa-0ad7-4157-ad7a-89994938ce93",
   "metadata": {},
   "outputs": [],
   "source": [
    "# 범주형 변수의 경우 Object 타입으로 변환 \n",
    "df[categorical] = df[categorical].astype(object) "
   ]
  },
  {
   "cell_type": "markdown",
   "id": "29e794da-dfb3-4605-a187-75a8ed6881c6",
   "metadata": {},
   "source": [
    "### Date: Value -> Null\n",
    "- According to Coding Book\n",
    "    - BMI +- 14 days\n",
    "    - BT +- 3 days\n",
    "    - Blood/Serum +- 14 days"
   ]
  },
  {
   "cell_type": "code",
   "execution_count": null,
   "id": "691b7b0d-97f2-40fd-9973-7374e783b3e6",
   "metadata": {},
   "outputs": [],
   "source": [
    "null_df = pd.DataFrame(data=df.isnull().sum()/len(df),columns=['nan_ratio'])\n",
    "null_df[null_df['nan_ratio'] > 0.8]"
   ]
  },
  {
   "cell_type": "code",
   "execution_count": null,
   "id": "d454a3c5-9b6b-4a5e-ba7e-5f455eaeb440",
   "metadata": {
    "scrolled": true,
    "tags": []
   },
   "outputs": [],
   "source": [
    "# df['Drop'] = np.nan\n",
    "bmi_ = 0 \n",
    "bt_ = 0 \n",
    "for idx in range(len(df)):\n",
    "    if (abs((df.loc[idx, 'Pf_date'] - df.loc[idx,'Weight_date']).days) > 14):  # BMI & Body Temperature\n",
    "        df.loc[idx, 'BMI'] = np.nan\n",
    "        bmi_+=1\n",
    "    if (abs((df.loc[idx, 'Pf_date'] - df.loc[idx,'BT_date']).days) > 3):\n",
    "        df.loc[idx, 'BT'] = np.nan\n",
    "        bt_+=1\n",
    "        \n",
    "print(f'Missing Ratio of BMI: {(bmi_/len(df))*100:.2f}')\n",
    "print(f'Missing Ratio of BT: {(bt_/len(df))*100:.2f}')"
   ]
  },
  {
   "cell_type": "code",
   "execution_count": null,
   "id": "632381ed-1643-40ef-9bd8-0df2018aa879",
   "metadata": {
    "scrolled": true,
    "tags": []
   },
   "outputs": [],
   "source": [
    "df['b_glucose_new'] = np.nan\n",
    "cnt = 0 \n",
    "for idx in range(len(df)):\n",
    "    if abs((df.loc[idx, 'Pf_date'] - df.loc[idx,'b_glucose_date']).days) < 14:\n",
    "        df.loc[idx, 'b_glucose_new'] = df.loc[idx,'b_glucose']\n",
    "    else:\n",
    "        if abs((df.loc[idx, 'Pf_date'] - df.loc[idx,'b_glucose_poct_date']).days) < 14:\n",
    "            df.loc[idx, 'b_glucose_new'] = df.loc[idx,'b_glucose_poct']\n",
    "        else: \n",
    "            # df.loc[idx, 'Drop'] = True\n",
    "            cnt += 1\n",
    "            \n",
    "print(f'Missing Ratio of Glucose: {(cnt/len(df))*100:.2f}')"
   ]
  },
  {
   "cell_type": "code",
   "execution_count": null,
   "id": "8e6529ea-2d76-41a2-a77e-489f25dc2d5a",
   "metadata": {},
   "outputs": [],
   "source": [
    "date_list = ['b_WBC_date', 'b_Neutro_date', 'b_Lympho_date','b_mono_date','b_Eosinophil_date', 'b_Basophil_date', 'b_RBC_date','b_Hb_date', \n",
    "             'b_plt_date', 'b_ESR_date', 'b_CRP_date', 'b_Protein_date','b_ALP_date', 'b_TB_date', 'b_BUN_date', 'b_Calcium_date', \n",
    "             'b_Chloride_date', 'b_Cholesterol_date','b_total_CO2_date', 'b_Creatinine_date', 'b_GGT_date', 'b_AST_date','b_ALT_date', \n",
    "             'b_Phosphorus_date', 'b_K_date', 'b_Na_date','b_Uric_Acid_date', 'b_albumin_date', 'b_LDH_date', 'b_CEA_date']"
   ]
  },
  {
   "cell_type": "code",
   "execution_count": null,
   "id": "d36a6879-11f2-4b4b-8d5f-94770aa2b0f1",
   "metadata": {},
   "outputs": [],
   "source": [
    "for c in date_list:\n",
    "    cnt = 0 \n",
    "    for idx in range(len(df)):\n",
    "        if abs((df.loc[idx, 'Pf_date'] - df.loc[idx, c]).days) > 14:\n",
    "            df.loc[idx, c[:-5]] = np.nan\n",
    "            cnt += 1\n",
    "    # print(f'Missing Ratio of {c}: {(cnt/len(df))*100:.2f}')"
   ]
  },
  {
   "cell_type": "code",
   "execution_count": null,
   "id": "c4fba58d-c898-45cc-b1ae-89374c5bb6fe",
   "metadata": {},
   "outputs": [],
   "source": [
    "null_df = pd.DataFrame(data=df.isnull().sum()/len(df),columns=['nan_ratio'])\n",
    "null_df[null_df['nan_ratio'] > 0.8]"
   ]
  },
  {
   "cell_type": "markdown",
   "id": "cfac8a8d-3d98-44ee-8789-ae520e59f0ad",
   "metadata": {
    "tags": []
   },
   "source": [
    "### Drop Columns"
   ]
  },
  {
   "cell_type": "code",
   "execution_count": null,
   "id": "f9c81ec3-d1a7-4f99-ad7f-6b278f4e08f7",
   "metadata": {},
   "outputs": [],
   "source": [
    "for c in df.columns:\n",
    "    if (c in other_feature): #  (c in info_feature) | \n",
    "        df.drop(columns=c, inplace=True)"
   ]
  },
  {
   "cell_type": "code",
   "execution_count": null,
   "id": "b1635229",
   "metadata": {},
   "outputs": [],
   "source": [
    "for c in df.columns:\n",
    "    if df[c].isnull().sum()/len(df) > 0.8: # if Null Ratio > 80%, drop  \n",
    "        df.drop(columns=c, inplace=True)\n",
    "    if (c == 'Pf_date') | (c == 'Pf_date_time'):\n",
    "        pass\n",
    "    elif ('_date' in c) | ('Height' in c) | ('Weight' in c) | ('SONO' in c):\n",
    "        df.drop(columns=c, inplace=True)"
   ]
  },
  {
   "cell_type": "code",
   "execution_count": null,
   "id": "9d94b5f0-e220-4941-8bbb-6bf574b1c2df",
   "metadata": {},
   "outputs": [],
   "source": [
    "df['b_glucose'] = df['b_glucose_new']\n",
    "df.drop(columns=['b_glucose_new','b_glucose_poct'], axis=1, inplace=True)\n",
    "df.drop(columns='final_dx_2', inplace=True)"
   ]
  },
  {
   "cell_type": "code",
   "execution_count": null,
   "id": "edd53eec-2d92-47df-9208-7453290ce3d9",
   "metadata": {},
   "outputs": [],
   "source": [
    "df.drop(columns = 'Pf_Lymph_PMN', inplace=True)"
   ]
  },
  {
   "cell_type": "code",
   "execution_count": null,
   "id": "503334bc-3a44-41eb-a481-98bdbaff2459",
   "metadata": {},
   "outputs": [],
   "source": [
    "df.shape"
   ]
  },
  {
   "cell_type": "markdown",
   "id": "d01a2553-ad0b-4962-8214-c894ac028165",
   "metadata": {},
   "source": [
    "### Replace"
   ]
  },
  {
   "cell_type": "code",
   "execution_count": null,
   "id": "e15c026f-f7a5-45aa-95c5-af98390e7d17",
   "metadata": {},
   "outputs": [],
   "source": [
    "# # 자료형 변환 \n",
    "# df = df.replace({'Gender':'M'}, {'Gender':0})\n",
    "# df = df.replace({'Gender':'F'}, {'Gender':1})\n",
    "# df['Gender'] = df['Gender'].astype(object)\n",
    "# print(df['Gender'].value_counts())"
   ]
  },
  {
   "cell_type": "code",
   "execution_count": null,
   "id": "db431f53-bfd0-4730-95d8-24b4a4f1f570",
   "metadata": {},
   "outputs": [],
   "source": [
    "for idx in range(len(df)):\n",
    "    if (df.loc[idx,'Pf_Color'] == 2) | (df.loc[idx,'Pf_Color'] == 3):\n",
    "        df.loc[idx,'Pf_Color_bloody'] = int(1) # Bloody -> yes\n",
    "    elif (df.loc[idx,'Pf_Color'] == 1) | (df.loc[idx,'Pf_Color'] == 4) | (df.loc[idx,'Pf_Color'] == 5) | (df.loc[idx,'Pf_Color'] == 6):\n",
    "        df.loc[idx,'Pf_Color_bloody'] = int(0) # Bloody -> No\n",
    "    # df['Pf_Color_bloody'] = df['Pf_Color_bloody']#.astype(int)"
   ]
  },
  {
   "cell_type": "code",
   "execution_count": null,
   "id": "4c903cef-296f-41a3-b991-51f61c8bbc12",
   "metadata": {},
   "outputs": [],
   "source": [
    "df['Pf_Color'] = df['Pf_Color_bloody'].astype(object)\n",
    "df.drop(columns='Pf_Color_bloody', inplace=True)\n",
    "df.rename(columns ={'Pf_Color':'Pf_Color_bloody'}, inplace=True)"
   ]
  },
  {
   "cell_type": "code",
   "execution_count": null,
   "id": "b8165e4a-0e3a-4276-b6e4-ec00e2d1bde8",
   "metadata": {},
   "outputs": [],
   "source": [
    "# df.rename(columns ={'final_dx_1':'Target'}, inplace=True)"
   ]
  },
  {
   "cell_type": "markdown",
   "id": "09293e11-472d-463d-880b-c6ccc1a8614f",
   "metadata": {},
   "source": [
    "### Drop Excluded Data"
   ]
  },
  {
   "cell_type": "code",
   "execution_count": null,
   "id": "d088036b-29a9-4c66-b048-75469fb7e959",
   "metadata": {},
   "outputs": [],
   "source": [
    "# 진단 1 에 대해서 불필요한 Feature 제거\n",
    "df_1 = df[df['final_dx_1']!=0]\n",
    "df_1.reset_index(inplace=True, drop=True)\n",
    "df_1.shape"
   ]
  },
  {
   "cell_type": "code",
   "execution_count": null,
   "id": "6916057f-188b-4b3e-bf84-110736ea59f3",
   "metadata": {},
   "outputs": [],
   "source": [
    "df_1 = df_1.replace({'final_dx_1':1},{'final_dx_1':0})\n",
    "df_1 = df_1.replace({'final_dx_1':2},{'final_dx_1':1})\n",
    "df_1 = df_1.replace({'final_dx_1':3},{'final_dx_1':2})\n",
    "df_1 = df_1.replace({'final_dx_1':4},{'final_dx_1':3})\n",
    "df_1 = df_1.replace({'final_dx_1':5},{'final_dx_1':4})\n",
    "df_1['final_dx_1'].value_counts()"
   ]
  },
  {
   "cell_type": "markdown",
   "id": "10a9b68e",
   "metadata": {},
   "source": [
    "### External Validation Set"
   ]
  },
  {
   "cell_type": "code",
   "execution_count": null,
   "id": "04c0330d",
   "metadata": {},
   "outputs": [],
   "source": [
    "# Date Time에 대해서 시간 순으로 재 나열\n",
    "new_df = df_1.sort_values(by=['Pf_date_time'], ascending=True)"
   ]
  },
  {
   "cell_type": "code",
   "execution_count": null,
   "id": "30a4b3a8",
   "metadata": {},
   "outputs": [],
   "source": [
    "# 01 - '2018-01-01'을 기준으로 External Validation Set을 만듬 \n",
    "internal_df = new_df[new_df['Pf_date'] < '2018-01-01'].reset_index(drop=True)\n",
    "external_df = new_df[new_df['Pf_date'] >= '2018-01-01'].reset_index(drop=True)\n",
    "print(f\"Length of Internal:{len(internal_df)}\\nLength of External:{len(external_df)}\")"
   ]
  },
  {
   "cell_type": "code",
   "execution_count": null,
   "id": "93aca25c",
   "metadata": {},
   "outputs": [],
   "source": [
    "# 각 질환별 갯수를 확인\n",
    "internal_df['final_dx_1'].value_counts()"
   ]
  },
  {
   "cell_type": "code",
   "execution_count": null,
   "id": "a3987a16",
   "metadata": {},
   "outputs": [],
   "source": [
    "external_df['final_dx_1'].value_counts()"
   ]
  },
  {
   "cell_type": "code",
   "execution_count": null,
   "id": "5ed806a0-0c69-4988-82d4-07f17e45dfd5",
   "metadata": {},
   "outputs": [],
   "source": [
    "# 진단 1에 대해서 데이터를 정리한 테이블을 csv 파일로 저장\n",
    "internal_df.to_csv('PF_AI_Internal.csv', index=False) \n",
    "external_df.to_csv('PF_AI_External.csv', index=False) "
   ]
  },
  {
   "cell_type": "code",
   "execution_count": null,
   "id": "d1d32cee",
   "metadata": {},
   "outputs": [],
   "source": []
  }
 ],
 "metadata": {
  "kernelspec": {
   "display_name": "Python 3 (ipykernel)",
   "language": "python",
   "name": "python3"
  },
  "language_info": {
   "codemirror_mode": {
    "name": "ipython",
    "version": 3
   },
   "file_extension": ".py",
   "mimetype": "text/x-python",
   "name": "python",
   "nbconvert_exporter": "python",
   "pygments_lexer": "ipython3",
   "version": "3.8.15"
  },
  "vscode": {
   "interpreter": {
    "hash": "3b71506ace91668b7e3715d77003e0ced71cc3f585a9c2fe78e596645c7df6d2"
   }
  }
 },
 "nbformat": 4,
 "nbformat_minor": 5
}
